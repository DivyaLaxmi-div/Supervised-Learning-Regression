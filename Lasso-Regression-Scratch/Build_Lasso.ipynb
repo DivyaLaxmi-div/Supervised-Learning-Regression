{
 "cells": [
  {
   "cell_type": "code",
   "execution_count": 1,
   "id": "4d6c93bf-2224-498a-be6f-fced2f463fff",
   "metadata": {},
   "outputs": [],
   "source": [
    "import numpy as np"
   ]
  },
  {
   "cell_type": "code",
   "execution_count": 1,
   "id": "bfaed767-72bf-4c59-a5a2-d13efc245e6f",
   "metadata": {},
   "outputs": [
    {
     "name": "stdout",
     "output_type": "stream",
     "text": [
      "📊 Custom Lasso Regression R² Score: 0.5775342920688498\n",
      "✅ Sklearn Lasso Regression R² Score: 0.48141920645242275\n"
     ]
    }
   ],
   "source": [
    "import numpy as np\n",
    "import pandas as pd\n",
    "from sklearn.model_selection import train_test_split\n",
    "from sklearn.metrics import r2_score\n",
    "from sklearn.datasets import fetch_california_housing\n",
    "from sklearn.linear_model import Lasso\n",
    "\n",
    "# Creating a class for Lasso Regression\n",
    "class Lasso_Regression():\n",
    "\n",
    "    # Initiating the hyperparameters\n",
    "    def __init__(self, learning_rate, no_of_iterations, lambda_parameter):\n",
    "        self.learning_rate = learning_rate\n",
    "        self.no_of_iterations = no_of_iterations\n",
    "        self.lambda_parameter = lambda_parameter\n",
    "\n",
    "    # Fitting the dataset to the Lasso Regression model\n",
    "    def fit(self, X, Y):\n",
    "        self.m, self.n = X.shape\n",
    "        self.w = np.zeros(self.n)\n",
    "        self.b = 0\n",
    "        self.X = X\n",
    "        self.Y = Y\n",
    "\n",
    "        for i in range(self.no_of_iterations):\n",
    "            self.update_weights()\n",
    "\n",
    "    # Function for updating the weight & bias value\n",
    "    def update_weights(self):\n",
    "        Y_prediction = self.predict(self.X)\n",
    "        dw = np.zeros(self.n)\n",
    "\n",
    "        for i in range(self.n):\n",
    "            if self.w[i] > 0:\n",
    "                dw[i] = (-(2 * (self.X[:, i]).dot(self.Y - Y_prediction)) + self.lambda_parameter) / self.m\n",
    "            else:\n",
    "                dw[i] = (-(2 * (self.X[:, i]).dot(self.Y - Y_prediction)) - self.lambda_parameter) / self.m\n",
    "\n",
    "        db = -2 * np.sum(self.Y - Y_prediction) / self.m\n",
    "\n",
    "        self.w = self.w - self.learning_rate * dw\n",
    "        self.b = self.b - self.learning_rate * db\n",
    "\n",
    "    # Predicting the Target variable\n",
    "    def predict(self, X):\n",
    "        return X.dot(self.w) + self.b\n",
    "\n",
    "\n",
    
    "# ✅ Testing the Lasso Regression\n",
     
    "\n",
    "# Load sample data\n",
    "data = fetch_california_housing()\n",
    "X = pd.DataFrame(data.data, columns=data.feature_names)\n",
    "Y = data.target\n",
    "\n",
    "# Normalize X (important for Lasso)\n",
    "X = (X - X.mean()) / X.std()\n",
    "\n",
    "# Train-test split\n",
    "X_train, X_test, Y_train, Y_test = train_test_split(X.values, Y, test_size=0.2, random_state=42)\n",
    "\n",
    "# Custom Lasso Regression\n",
    "model = Lasso_Regression(learning_rate=0.01, no_of_iterations=1000, lambda_parameter=0.1)\n",
    "model.fit(X_train, Y_train)\n",
    "Y_pred_custom = model.predict(X_test)\n",
    "\n",
    "# Sklearn's Lasso for comparison\n",
    "lasso = Lasso(alpha=0.1)\n",
    "lasso.fit(X_train, Y_train)\n",
    "Y_pred_sklearn = lasso.predict(X_test)\n",
    "\n",
    "# R² scores\n",
    "print(\"📊 Custom Lasso Regression R² Score:\", r2_score(Y_test, Y_pred_custom))\n",
    "print(\"✅ Sklearn Lasso Regression R² Score:\", r2_score(Y_test, Y_pred_sklearn))\n"
   ]
  },
  {
   "cell_type": "code",
   "execution_count": null,
   "id": "80d94462-b4c6-4706-a74d-c2a294fb7a41",
   "metadata": {},
   "outputs": [],
   "source": []
  }
 ],
 "metadata": {
  "kernelspec": {
   "display_name": "Python 3 (ipykernel)",
   "language": "python",
   "name": "python3"
  },
  "language_info": {
   "codemirror_mode": {
    "name": "ipython",
    "version": 3
   },
   "file_extension": ".py",
   "mimetype": "text/x-python",
   "name": "python",
   "nbconvert_exporter": "python",
   "pygments_lexer": "ipython3",
   "version": "3.12.7"
  }
 },
 "nbformat": 4,
 "nbformat_minor": 5
}
